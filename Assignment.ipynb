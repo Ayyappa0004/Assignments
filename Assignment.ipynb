{
 "cells": [
  {
   "cell_type": "markdown",
   "id": "3ce2a393",
   "metadata": {},
   "source": [
    "<h1>My Jupyter Notebook on IBM Watson Studio</h1>"
   ]
  },
  {
   "cell_type": "markdown",
   "id": "e2646181",
   "metadata": {},
   "source": [
    "<b>Ayaluri Ayyappa</b>"
   ]
  },
  {
   "cell_type": "markdown",
   "id": "8618fe7d",
   "metadata": {},
   "source": [
    "<i> I am intrested in Data science because I love to play with the Data </i>"
   ]
  },
  {
   "cell_type": "markdown",
   "id": "8d8f118c",
   "metadata": {},
   "source": [
    "<h3>The following code tests the Gauss formula</h3>"
   ]
  },
  {
   "cell_type": "code",
   "execution_count": 1,
   "id": "298525a2",
   "metadata": {},
   "outputs": [
    {
     "data": {
      "text/plain": [
       "True"
      ]
     },
     "execution_count": 1,
     "metadata": {},
     "output_type": "execute_result"
    }
   ],
   "source": [
    "def gauss(n):\n",
    "    return (n*(n+1))/2\n",
    "\n",
    "gauss(100)== sum(range(101))"
   ]
  },
  {
   "cell_type": "markdown",
   "id": "a0a263f5",
   "metadata": {},
   "source": [
    "<ul><li>One</li>\n",
    "    <li>Two</li>\n",
    "    <li>Three</li>\n",
    "    <li>One</li>\n",
    "    <li>Two</li>\n",
    "    <li>Three</li>\n",
    "</ul>"
   ]
  },
  {
   "cell_type": "markdown",
   "id": "d65a43d8",
   "metadata": {},
   "source": [
    "<a href=\"www.ibm.com\">Ibm</a>"
   ]
  }
 ],
 "metadata": {
  "kernelspec": {
   "display_name": "Python 3 (ipykernel)",
   "language": "python",
   "name": "python3"
  },
  "language_info": {
   "codemirror_mode": {
    "name": "ipython",
    "version": 3
   },
   "file_extension": ".py",
   "mimetype": "text/x-python",
   "name": "python",
   "nbconvert_exporter": "python",
   "pygments_lexer": "ipython3",
   "version": "3.9.13"
  }
 },
 "nbformat": 4,
 "nbformat_minor": 5
}
